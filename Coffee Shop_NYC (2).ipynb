{
 "cells": [
  {
   "cell_type": "markdown",
   "metadata": {},
   "source": [
    "# Introduction"
   ]
  },
  {
   "cell_type": "markdown",
   "metadata": {},
   "source": [
    "This project is to help people planning to open a coffee shop in New York City to chose the right location by providing data about the income and population of each neighborhood as well as the competitors already present on the same regions. \n",
    "People drink coffee everyday to boost energy, especially students and office workers. A research showing that there is a positive correlation between coffee consumption and health. The target audience of this project are coffee lovers who  consider to open a small business in New York City. To consider the health benefits and a tendency of a increasing consumption in coffee, it is a good idea to start a coffee shop in New York. However, the living expense in New York is extremely high with high income households spread out across the city, and it seems hard to find a perfect location to open a coffee shop with low overhead cost and a competitive advantage to gain more customers. This project will help my target audience with their decision with having a better understanding of the city Census and population characteristics, especially, to gain information from Foursquare thus make a better decision on choosing the perfect location for the business."
   ]
  },
  {
   "cell_type": "code",
   "execution_count": null,
   "metadata": {},
   "outputs": [],
   "source": []
  },
  {
   "cell_type": "markdown",
   "metadata": {},
   "source": [
    "# Data "
   ]
  },
  {
   "cell_type": "markdown",
   "metadata": {},
   "source": [
    "To provide the stakeholders the necessary information I'll be combining New York's 2020 Census that contains Population, Average income per Neighborhood with New York's Neighborhoods shapefile and Foursquare API to collect competitors on the same neighborhoods.The data source is NYC OpenData. For example, just as what I completed in the week 3 lab for segmenting and clustering the neighborhoods in New Work City, I will be extracting the neighborhoods from Foursquare and leverage the data with what I would obtain from NYC OpenData about Census in NYC."
   ]
  },
  {
   "cell_type": "code",
   "execution_count": null,
   "metadata": {},
   "outputs": [],
   "source": []
  }
 ],
 "metadata": {
  "kernelspec": {
   "display_name": "Python",
   "language": "python",
   "name": "conda-env-python-py"
  },
  "language_info": {
   "codemirror_mode": {
    "name": "ipython",
    "version": 3
   },
   "file_extension": ".py",
   "mimetype": "text/x-python",
   "name": "python",
   "nbconvert_exporter": "python",
   "pygments_lexer": "ipython3",
   "version": "3.6.10"
  }
 },
 "nbformat": 4,
 "nbformat_minor": 4
}
