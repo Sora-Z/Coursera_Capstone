{
 "cells": [
  {
   "cell_type": "markdown",
   "metadata": {},
   "source": [
    "# Introduction"
   ]
  },
  {
   "cell_type": "markdown",
   "metadata": {},
   "source": [
    "This project is to help people planning to open a new coffee shop in New Yor City to chose the right location by providing data about the income and population of each neighborhood as well as the competitors already present on the same regions. People drink coffee everyday to boost energy, especially students and office workers. A research showing that there is a positive correlation between coffee consumption and health. Conidering the health benefits and a tendency of a increasing consumption in coffee, it is a good idea to start a coffee shop for a small business in New York. "
   ]
  },
  {
   "cell_type": "markdown",
   "metadata": {},
   "source": [
    "# Data "
   ]
  },
  {
   "cell_type": "markdown",
   "metadata": {},
   "source": [
    "To provide the stakeholders the necessary information I'll be combining New York's 2020 Census that contains Population, Average income per Neighborhood with New York's Neighborhoods shapefile and Foursquare API to collect competitors on the same neighborhoods.The data source is NYC OpenData. "
   ]
  },
  {
   "cell_type": "code",
   "execution_count": null,
   "metadata": {},
   "outputs": [],
   "source": []
  }
 ],
 "metadata": {
  "kernelspec": {
   "display_name": "Python",
   "language": "python",
   "name": "conda-env-python-py"
  },
  "language_info": {
   "codemirror_mode": {
    "name": "ipython",
    "version": 3
   },
   "file_extension": ".py",
   "mimetype": "text/x-python",
   "name": "python",
   "nbconvert_exporter": "python",
   "pygments_lexer": "ipython3",
   "version": "3.6.10"
  }
 },
 "nbformat": 4,
 "nbformat_minor": 4
}
